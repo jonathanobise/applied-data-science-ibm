{
 "cells": [
  {
   "cell_type": "markdown",
   "metadata": {},
   "source": [
    "# The Battle of Neighbourhoods"
   ]
  },
  {
   "cell_type": "markdown",
   "metadata": {},
   "source": [
    "## Introduction and Business Problem"
   ]
  },
  {
   "cell_type": "markdown",
   "metadata": {},
   "source": [
    "A wealthy African family is planning on relocating to New York City. They desire to setup a grand african restaurant on arrival. They have tasked me with the responsibility of identifying the availability and spread of African restaurants in New York City, and to advise on the best market entry strategy.\n",
    "\n",
    "It is important to note that the demographics of New York City is one that is particularly and ethnically diverse, culturally rich and generally interesting. As one of the largest cities in the United States, it stands out on the strength of what it offers residents and visitors alike. With a population of just over 8 million people in 2017, it accounts for over 40% of the population of New York State and comes slightly behind the population percentage of the New York metropolitan area, which happens to be home to approximately 23.6 million people. Over the last decade the city has been growing faster than the region. The New York region continues to be by far the leading metropolitan gateway for legal immigrants admitted into the United States.\n",
    "\n",
    "New York City is also densely populated which as a result, it earned the term \"melting pot\" - coined to describe the densely populated immigrant neighborhoods on the Lower East Side. As many as 800 languages are spoken in New York, making it the most linguistically diverse city in the world. English remains the most widely spoken language, although there are areas in the outer boroughs in which up to 25% of people speak English as an alternate language, and/or have limited or no English language fluency. English is least spoken in neighborhoods such as Flushing, Sunset Park, and Corona.\n",
    "\n",
    "It is no brainer that with it's diverse culture, comes the yearning for diverse food items and cullinary tastes. There are many resturants in New york City, belonging to different categories of ethnicities not limited to African, Chinese, French, Indian, etc. In addition to the task I mentioned earlier, my goal on this project is to highlight and visualize the neighbourhoods and boroughs in New York City where you can find African restaurants and the go-to-market strategy for entering the restaurant market for my client."
   ]
  },
  {
   "cell_type": "code",
   "execution_count": null,
   "metadata": {},
   "outputs": [],
   "source": []
  }
 ],
 "metadata": {
  "kernelspec": {
   "display_name": "Python 3",
   "language": "python",
   "name": "python3"
  },
  "language_info": {
   "codemirror_mode": {
    "name": "ipython",
    "version": 3
   },
   "file_extension": ".py",
   "mimetype": "text/x-python",
   "name": "python",
   "nbconvert_exporter": "python",
   "pygments_lexer": "ipython3",
   "version": "3.6.7"
  }
 },
 "nbformat": 4,
 "nbformat_minor": 4
}
