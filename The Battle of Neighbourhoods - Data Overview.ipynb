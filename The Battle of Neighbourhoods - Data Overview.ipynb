{
 "cells": [
  {
   "cell_type": "markdown",
   "metadata": {},
   "source": [
    "# Description of Data\n"
   ]
  },
  {
   "cell_type": "markdown",
   "metadata": {},
   "source": [
    "Here is an overview of all the data points for this project:\n",
    "\n",
    "A dataset of New York City containing the list Boroughs, Neighborhoods along with their latitude and longitude. Data source : https://cocl.us/new_york_dataset Description : This data set contains the required information. And we will use this data set to explore various neighborhoods of new york city.\n",
    "\n",
    "A dataset leveraging Foursquare API of African resturants across the various neighborhood of NYC. Data source : Fousquare API Description : This API would prvide an up-to-date information on all the restaurants in each neighborhood. A further drill down of the dataset wil then provide the venues for African restaurants spread across the various neighbourhoods.\n",
    "\n",
    "GeoSpace data Data source : https://data.cityofnewyork.us/City-Government/Borough-Boundaries/tqmj-j8zm Description : This will provide the functionality needed to visualize the New York Borough boundaries with the aid of a Choropleth map."
   ]
  },
  {
   "cell_type": "code",
   "execution_count": null,
   "metadata": {},
   "outputs": [],
   "source": []
  }
 ],
 "metadata": {
  "kernelspec": {
   "display_name": "Python 3",
   "language": "python",
   "name": "python3"
  },
  "language_info": {
   "codemirror_mode": {
    "name": "ipython",
    "version": 3
   },
   "file_extension": ".py",
   "mimetype": "text/x-python",
   "name": "python",
   "nbconvert_exporter": "python",
   "pygments_lexer": "ipython3",
   "version": "3.6.7"
  }
 },
 "nbformat": 4,
 "nbformat_minor": 4
}
